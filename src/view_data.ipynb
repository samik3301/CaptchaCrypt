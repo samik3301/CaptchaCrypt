{
 "cells": [
  {
   "cell_type": "code",
   "execution_count": 1,
   "metadata": {},
   "outputs": [
    {
     "name": "stderr",
     "output_type": "stream",
     "text": [
      "/Users/samik/miniconda3/envs/test_env/lib/python3.8/site-packages/tqdm/auto.py:22: TqdmWarning: IProgress not found. Please update jupyter and ipywidgets. See https://ipywidgets.readthedocs.io/en/stable/user_install.html\n",
      "  from .autonotebook import tqdm as notebook_tqdm\n"
     ]
    }
   ],
   "source": [
    "import os\n",
    "import glob\n",
    "import torch\n",
    "import numpy as np\n",
    "\n",
    "\n",
    "from sklearn import preprocessing\n",
    "from sklearn import model_selection\n",
    "from sklearn import metrics\n",
    "\n",
    "import config\n",
    "import dataset"
   ]
  },
  {
   "cell_type": "code",
   "execution_count": 3,
   "metadata": {},
   "outputs": [
    {
     "name": "stdout",
     "output_type": "stream",
     "text": [
      "\n",
      "\n",
      "\n",
      "\n"
     ]
    }
   ],
   "source": [
    "image_files = glob.glob(os.path.join(config.DATA_DIR, \"*.png\"))  #scanning through all the files within a folder\n",
    "#/../..abcde.png -> [['a','b','c','d','e']]\n",
    "targets_org = [x.split(\"/\")[-1][:-4] for x in image_files]\n",
    "#abcde - > [a,b,c,d,e]\n",
    "targets = [[c for c in x] for x in targets_org]\n",
    "targets_flat = [c for clist in targets for c in clist]  #flattening the list\n",
    "#converting a multi dimensional list to a single dimensional list before encoding it \n",
    "\n",
    "label_encoder = preprocessing.LabelEncoder()\n",
    "label_encoder.fit(targets_flat)\n",
    "\n",
    "target_encoded =[label_encoder.transform(x) for x in targets]\n",
    "target_encoded = np.array(target_encoded)+1\n",
    "#print(target_encoded)\n",
    "print(\"\\n\")\n",
    "#print(len(label_encoder.classes_))  #we have 19 different label encoded classes\n",
    "#print(targets)\n",
    "print(\"\\n\")\n",
    "#print(np.unique(targets_flat))\n",
    "\n",
    "\n",
    "#NOW SPLITTING THE DATA\n",
    "train_images, test_images, train_targets, test_targets, train_orig_targets, test_orig_targets = model_selection.train_test_split(\n",
    "    image_files,\n",
    "    target_encoded,\n",
    "    targets_org,\n",
    "    test_size=0.1,\n",
    "    random_state= 42\n",
    ")\n",
    "\n",
    "train_dataset = dataset.Classification(\n",
    "    image_paths = train_images, \n",
    "    targets = train_targets, \n",
    "    resize=(config.IMAGE_HEIGHT,config.IMAGE_WIDTH)\n",
    ")\n",
    "\n",
    "train_loader = torch.utils.data.DataLoader(\n",
    "    train_dataset,\n",
    "    batch_size = config.BATCH_SIZE,\n",
    "    num_workers=  config.NUM_WORKERS,\n",
    "    shuffle = True\n",
    ")"
   ]
  },
  {
   "cell_type": "code",
   "execution_count": 4,
   "metadata": {},
   "outputs": [
    {
     "data": {
      "text/plain": [
       "{'images': tensor([[[1.1700, 1.1700, 1.1700,  ..., 2.1804, 2.1804, 2.1804],\n",
       "          [1.1700, 1.1700, 1.1700,  ..., 2.1804, 2.1804, 2.1804],\n",
       "          [1.1700, 1.1700, 1.1700,  ..., 2.1804, 2.1804, 2.1804],\n",
       "          ...,\n",
       "          [1.2214, 1.2214, 1.2214,  ..., 2.2318, 2.2318, 2.2318],\n",
       "          [1.2214, 1.2214, 1.2214,  ..., 2.2318, 2.2318, 2.2318],\n",
       "          [1.2214, 1.2214, 1.2214,  ..., 2.2318, 2.2318, 2.2318]],\n",
       " \n",
       "         [[1.3256, 1.3256, 1.3256,  ..., 2.3585, 2.3585, 2.3585],\n",
       "          [1.3256, 1.3256, 1.3256,  ..., 2.3585, 2.3585, 2.3585],\n",
       "          [1.3256, 1.3256, 1.3256,  ..., 2.3585, 2.3585, 2.3585],\n",
       "          ...,\n",
       "          [1.3782, 1.3782, 1.3782,  ..., 2.4111, 2.4111, 2.4111],\n",
       "          [1.3782, 1.3782, 1.3782,  ..., 2.4111, 2.4111, 2.4111],\n",
       "          [1.3782, 1.3782, 1.3782,  ..., 2.4111, 2.4111, 2.4111]],\n",
       " \n",
       "         [[1.5420, 1.5420, 1.5420,  ..., 2.5703, 2.5703, 2.5703],\n",
       "          [1.5420, 1.5420, 1.5420,  ..., 2.5703, 2.5703, 2.5703],\n",
       "          [1.5420, 1.5420, 1.5420,  ..., 2.5703, 2.5703, 2.5703],\n",
       "          ...,\n",
       "          [1.5942, 1.5942, 1.5942,  ..., 2.6226, 2.6226, 2.6226],\n",
       "          [1.5942, 1.5942, 1.5942,  ..., 2.6226, 2.6226, 2.6226],\n",
       "          [1.5942, 1.5942, 1.5942,  ..., 2.6226, 2.6226, 2.6226]]]),\n",
       " 'targets': tensor([ 9,  6, 13,  8,  2])}"
      ]
     },
     "execution_count": 4,
     "metadata": {},
     "output_type": "execute_result"
    }
   ],
   "source": [
    "train_dataset[0]"
   ]
  },
  {
   "cell_type": "code",
   "execution_count": 12,
   "metadata": {},
   "outputs": [],
   "source": [
    "import matplotlib.pyplot as plt\n",
    "%matplotlib inline"
   ]
  },
  {
   "cell_type": "code",
   "execution_count": 6,
   "metadata": {},
   "outputs": [],
   "source": [
    "npimg = train_dataset[0][\"images\"].numpy()"
   ]
  },
  {
   "cell_type": "code",
   "execution_count": 7,
   "metadata": {},
   "outputs": [
    {
     "data": {
      "text/plain": [
       "(3, 75, 300)"
      ]
     },
     "execution_count": 7,
     "metadata": {},
     "output_type": "execute_result"
    }
   ],
   "source": [
    "npimg.shape"
   ]
  },
  {
   "cell_type": "code",
   "execution_count": 8,
   "metadata": {},
   "outputs": [
    {
     "data": {
      "text/plain": [
       "(75, 300, 3)"
      ]
     },
     "execution_count": 8,
     "metadata": {},
     "output_type": "execute_result"
    }
   ],
   "source": [
    "np.transpose(npimg,(1,2,0)).shape  #converting the image back into height, width , channel"
   ]
  },
  {
   "cell_type": "code",
   "execution_count": 13,
   "metadata": {},
   "outputs": [
    {
     "name": "stderr",
     "output_type": "stream",
     "text": [
      "Clipping input data to the valid range for imshow with RGB data ([0..1] for floats or [0..255] for integers).\n"
     ]
    },
    {
     "data": {
      "text/plain": [
       "<matplotlib.image.AxesImage at 0x285665c10>"
      ]
     },
     "execution_count": 13,
     "metadata": {},
     "output_type": "execute_result"
    },
    {
     "data": {
      "image/png": "[encoded data removed]",
      "text/plain": [
       "<Figure size 640x480 with 1 Axes>"
      ]
     },
     "metadata": {},
     "output_type": "display_data"
    }
   ],
   "source": [
    "plt.imshow(np.transpose(npimg,(1,2,0)))"
   ]
  }
 ],
 "metadata": {
  "kernelspec": {
   "display_name": "Python 3.8.16 ('test_env')",
   "language": "python",
   "name": "python3"
  },
  "language_info": {
   "codemirror_mode": {
    "name": "ipython",
    "version": 3
   },
   "file_extension": ".py",
   "mimetype": "text/x-python",
   "name": "python",
   "nbconvert_exporter": "python",
   "pygments_lexer": "ipython3",
   "version": "3.8.16"
  },
  "orig_nbformat": 4,
  "vscode": {
   "interpreter": {
    "hash": "16f7210caab806b421bcc33f5a904e886ea692ee31d194fa74c2c5a2acb2016a"
   }
  }
 },
 "nbformat": 4,
 "nbformat_minor": 2
}
